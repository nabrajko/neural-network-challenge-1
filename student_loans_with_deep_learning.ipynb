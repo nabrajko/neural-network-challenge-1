{
  "cells": [
    {
      "cell_type": "markdown",
      "metadata": {
        "id": "T7ZNhGcW6q6r"
      },
      "source": [
        "# Student Loan Risk with Deep Learning"
      ]
    },
    {
      "cell_type": "code",
      "execution_count": 1,
      "metadata": {
        "id": "0otrXpJc6q6u"
      },
      "outputs": [],
      "source": [
        "# Imports\n",
        "import pandas as pd\n",
        "import tensorflow as tf\n",
        "from tensorflow.keras.layers import Dense\n",
        "from tensorflow.keras.models import Sequential\n",
        "from sklearn.model_selection import train_test_split\n",
        "from sklearn.preprocessing import StandardScaler\n",
        "from sklearn.metrics import classification_report\n",
        "from pathlib import Path"
      ]
    },
    {
      "cell_type": "markdown",
      "metadata": {
        "id": "OpV4Y-3Z6q6w"
      },
      "source": [
        "---\n",
        "\n",
        "## Prepare the data to be used on a neural network model"
      ]
    },
    {
      "cell_type": "markdown",
      "metadata": {
        "id": "TUuSzp2l6q6w"
      },
      "source": [
        "### Step 1: Read the `student-loans.csv` file into a Pandas DataFrame. Review the DataFrame, looking for columns that could eventually define your features and target variables.   "
      ]
    },
    {
      "cell_type": "code",
      "execution_count": 2,
      "metadata": {
        "colab": {
          "base_uri": "https://localhost:8080/",
          "height": 226
        },
        "id": "G65km1KD6q6x",
        "outputId": "93d12d8d-c415-4017-8452-5b4966e4dde5"
      },
      "outputs": [
        {
          "data": {
            "text/html": [
              "<div>\n",
              "<style scoped>\n",
              "    .dataframe tbody tr th:only-of-type {\n",
              "        vertical-align: middle;\n",
              "    }\n",
              "\n",
              "    .dataframe tbody tr th {\n",
              "        vertical-align: top;\n",
              "    }\n",
              "\n",
              "    .dataframe thead th {\n",
              "        text-align: right;\n",
              "    }\n",
              "</style>\n",
              "<table border=\"1\" class=\"dataframe\">\n",
              "  <thead>\n",
              "    <tr style=\"text-align: right;\">\n",
              "      <th></th>\n",
              "      <th>payment_history</th>\n",
              "      <th>location_parameter</th>\n",
              "      <th>stem_degree_score</th>\n",
              "      <th>gpa_ranking</th>\n",
              "      <th>alumni_success</th>\n",
              "      <th>study_major_code</th>\n",
              "      <th>time_to_completion</th>\n",
              "      <th>finance_workshop_score</th>\n",
              "      <th>cohort_ranking</th>\n",
              "      <th>total_loan_score</th>\n",
              "      <th>financial_aid_score</th>\n",
              "      <th>credit_ranking</th>\n",
              "    </tr>\n",
              "  </thead>\n",
              "  <tbody>\n",
              "    <tr>\n",
              "      <th>0</th>\n",
              "      <td>7.4</td>\n",
              "      <td>0.70</td>\n",
              "      <td>0.00</td>\n",
              "      <td>1.9</td>\n",
              "      <td>0.076</td>\n",
              "      <td>11.0</td>\n",
              "      <td>34.0</td>\n",
              "      <td>0.9978</td>\n",
              "      <td>3.51</td>\n",
              "      <td>0.56</td>\n",
              "      <td>9.4</td>\n",
              "      <td>0</td>\n",
              "    </tr>\n",
              "    <tr>\n",
              "      <th>1</th>\n",
              "      <td>7.8</td>\n",
              "      <td>0.88</td>\n",
              "      <td>0.00</td>\n",
              "      <td>2.6</td>\n",
              "      <td>0.098</td>\n",
              "      <td>25.0</td>\n",
              "      <td>67.0</td>\n",
              "      <td>0.9968</td>\n",
              "      <td>3.20</td>\n",
              "      <td>0.68</td>\n",
              "      <td>9.8</td>\n",
              "      <td>0</td>\n",
              "    </tr>\n",
              "    <tr>\n",
              "      <th>2</th>\n",
              "      <td>7.8</td>\n",
              "      <td>0.76</td>\n",
              "      <td>0.04</td>\n",
              "      <td>2.3</td>\n",
              "      <td>0.092</td>\n",
              "      <td>15.0</td>\n",
              "      <td>54.0</td>\n",
              "      <td>0.9970</td>\n",
              "      <td>3.26</td>\n",
              "      <td>0.65</td>\n",
              "      <td>9.8</td>\n",
              "      <td>0</td>\n",
              "    </tr>\n",
              "    <tr>\n",
              "      <th>3</th>\n",
              "      <td>11.2</td>\n",
              "      <td>0.28</td>\n",
              "      <td>0.56</td>\n",
              "      <td>1.9</td>\n",
              "      <td>0.075</td>\n",
              "      <td>17.0</td>\n",
              "      <td>60.0</td>\n",
              "      <td>0.9980</td>\n",
              "      <td>3.16</td>\n",
              "      <td>0.58</td>\n",
              "      <td>9.8</td>\n",
              "      <td>1</td>\n",
              "    </tr>\n",
              "    <tr>\n",
              "      <th>4</th>\n",
              "      <td>7.4</td>\n",
              "      <td>0.70</td>\n",
              "      <td>0.00</td>\n",
              "      <td>1.9</td>\n",
              "      <td>0.076</td>\n",
              "      <td>11.0</td>\n",
              "      <td>34.0</td>\n",
              "      <td>0.9978</td>\n",
              "      <td>3.51</td>\n",
              "      <td>0.56</td>\n",
              "      <td>9.4</td>\n",
              "      <td>0</td>\n",
              "    </tr>\n",
              "  </tbody>\n",
              "</table>\n",
              "</div>"
            ],
            "text/plain": [
              "   payment_history  location_parameter  stem_degree_score  gpa_ranking  \\\n",
              "0              7.4                0.70               0.00          1.9   \n",
              "1              7.8                0.88               0.00          2.6   \n",
              "2              7.8                0.76               0.04          2.3   \n",
              "3             11.2                0.28               0.56          1.9   \n",
              "4              7.4                0.70               0.00          1.9   \n",
              "\n",
              "   alumni_success  study_major_code  time_to_completion  \\\n",
              "0           0.076              11.0                34.0   \n",
              "1           0.098              25.0                67.0   \n",
              "2           0.092              15.0                54.0   \n",
              "3           0.075              17.0                60.0   \n",
              "4           0.076              11.0                34.0   \n",
              "\n",
              "   finance_workshop_score  cohort_ranking  total_loan_score  \\\n",
              "0                  0.9978            3.51              0.56   \n",
              "1                  0.9968            3.20              0.68   \n",
              "2                  0.9970            3.26              0.65   \n",
              "3                  0.9980            3.16              0.58   \n",
              "4                  0.9978            3.51              0.56   \n",
              "\n",
              "   financial_aid_score  credit_ranking  \n",
              "0                  9.4               0  \n",
              "1                  9.8               0  \n",
              "2                  9.8               0  \n",
              "3                  9.8               1  \n",
              "4                  9.4               0  "
            ]
          },
          "execution_count": 2,
          "metadata": {},
          "output_type": "execute_result"
        }
      ],
      "source": [
        "# Read the csv into a Pandas DataFrame\n",
        "file_path = \"https://static.bc-edx.com/ai/ail-v-1-0/m18/lms/datasets/student-loans.csv\"\n",
        "loans_df = pd.read_csv(file_path)\n",
        "\n",
        "# Review the DataFrame\n",
        "loans_df.head()"
      ]
    },
    {
      "cell_type": "code",
      "execution_count": 3,
      "metadata": {
        "colab": {
          "base_uri": "https://localhost:8080/"
        },
        "id": "K8ZYB8wx6q6x",
        "outputId": "b509fc34-4488-406e-e451-2069fec37371"
      },
      "outputs": [
        {
          "data": {
            "text/plain": [
              "payment_history           float64\n",
              "location_parameter        float64\n",
              "stem_degree_score         float64\n",
              "gpa_ranking               float64\n",
              "alumni_success            float64\n",
              "study_major_code          float64\n",
              "time_to_completion        float64\n",
              "finance_workshop_score    float64\n",
              "cohort_ranking            float64\n",
              "total_loan_score          float64\n",
              "financial_aid_score       float64\n",
              "credit_ranking              int64\n",
              "dtype: object"
            ]
          },
          "execution_count": 3,
          "metadata": {},
          "output_type": "execute_result"
        }
      ],
      "source": [
        "# Review the data types associated with the columns\n",
        "loans_df.dtypes"
      ]
    },
    {
      "cell_type": "code",
      "execution_count": 4,
      "metadata": {
        "colab": {
          "base_uri": "https://localhost:8080/"
        },
        "id": "9P8aX-dW75JO",
        "outputId": "63251fa8-5ac1-4112-c2f7-bc5d97ea8491"
      },
      "outputs": [
        {
          "data": {
            "text/plain": [
              "credit_ranking\n",
              "1    855\n",
              "0    744\n",
              "Name: count, dtype: int64"
            ]
          },
          "execution_count": 4,
          "metadata": {},
          "output_type": "execute_result"
        }
      ],
      "source": [
        "# Check the credit_ranking value counts\n",
        "loans_df[\"credit_ranking\"].value_counts()"
      ]
    },
    {
      "cell_type": "markdown",
      "metadata": {
        "id": "R6vbZeDH6q6y"
      },
      "source": [
        "### Step 2: Using the preprocessed data, create the features (`X`) and target (`y`) datasets. The target dataset should be defined by the preprocessed DataFrame column “credit_ranking”. The remaining columns should define the features dataset."
      ]
    },
    {
      "cell_type": "code",
      "execution_count": 5,
      "metadata": {
        "colab": {
          "base_uri": "https://localhost:8080/"
        },
        "id": "Q5eVAP5M6q6y",
        "outputId": "89728bbf-6930-4573-a126-9f1b66ed8859"
      },
      "outputs": [
        {
          "data": {
            "text/plain": [
              "0    0\n",
              "1    0\n",
              "2    0\n",
              "3    1\n",
              "4    0\n",
              "Name: credit_ranking, dtype: int64"
            ]
          },
          "execution_count": 5,
          "metadata": {},
          "output_type": "execute_result"
        }
      ],
      "source": [
        "# Define the target set y using the credit_ranking column\n",
        "y = loans_df[\"credit_ranking\"]\n",
        "\n",
        "# Display a sample of y\n",
        "y.head()"
      ]
    },
    {
      "cell_type": "code",
      "execution_count": 6,
      "metadata": {
        "colab": {
          "base_uri": "https://localhost:8080/",
          "height": 226
        },
        "id": "IIkrD2Sn6q6z",
        "outputId": "ce07c4a3-fb81-4657-d11e-ec85ae8554c9"
      },
      "outputs": [
        {
          "data": {
            "text/html": [
              "<div>\n",
              "<style scoped>\n",
              "    .dataframe tbody tr th:only-of-type {\n",
              "        vertical-align: middle;\n",
              "    }\n",
              "\n",
              "    .dataframe tbody tr th {\n",
              "        vertical-align: top;\n",
              "    }\n",
              "\n",
              "    .dataframe thead th {\n",
              "        text-align: right;\n",
              "    }\n",
              "</style>\n",
              "<table border=\"1\" class=\"dataframe\">\n",
              "  <thead>\n",
              "    <tr style=\"text-align: right;\">\n",
              "      <th></th>\n",
              "      <th>payment_history</th>\n",
              "      <th>location_parameter</th>\n",
              "      <th>stem_degree_score</th>\n",
              "      <th>gpa_ranking</th>\n",
              "      <th>alumni_success</th>\n",
              "      <th>study_major_code</th>\n",
              "      <th>time_to_completion</th>\n",
              "      <th>finance_workshop_score</th>\n",
              "      <th>cohort_ranking</th>\n",
              "      <th>total_loan_score</th>\n",
              "      <th>financial_aid_score</th>\n",
              "    </tr>\n",
              "  </thead>\n",
              "  <tbody>\n",
              "    <tr>\n",
              "      <th>0</th>\n",
              "      <td>7.4</td>\n",
              "      <td>0.70</td>\n",
              "      <td>0.00</td>\n",
              "      <td>1.9</td>\n",
              "      <td>0.076</td>\n",
              "      <td>11.0</td>\n",
              "      <td>34.0</td>\n",
              "      <td>0.9978</td>\n",
              "      <td>3.51</td>\n",
              "      <td>0.56</td>\n",
              "      <td>9.4</td>\n",
              "    </tr>\n",
              "    <tr>\n",
              "      <th>1</th>\n",
              "      <td>7.8</td>\n",
              "      <td>0.88</td>\n",
              "      <td>0.00</td>\n",
              "      <td>2.6</td>\n",
              "      <td>0.098</td>\n",
              "      <td>25.0</td>\n",
              "      <td>67.0</td>\n",
              "      <td>0.9968</td>\n",
              "      <td>3.20</td>\n",
              "      <td>0.68</td>\n",
              "      <td>9.8</td>\n",
              "    </tr>\n",
              "    <tr>\n",
              "      <th>2</th>\n",
              "      <td>7.8</td>\n",
              "      <td>0.76</td>\n",
              "      <td>0.04</td>\n",
              "      <td>2.3</td>\n",
              "      <td>0.092</td>\n",
              "      <td>15.0</td>\n",
              "      <td>54.0</td>\n",
              "      <td>0.9970</td>\n",
              "      <td>3.26</td>\n",
              "      <td>0.65</td>\n",
              "      <td>9.8</td>\n",
              "    </tr>\n",
              "    <tr>\n",
              "      <th>3</th>\n",
              "      <td>11.2</td>\n",
              "      <td>0.28</td>\n",
              "      <td>0.56</td>\n",
              "      <td>1.9</td>\n",
              "      <td>0.075</td>\n",
              "      <td>17.0</td>\n",
              "      <td>60.0</td>\n",
              "      <td>0.9980</td>\n",
              "      <td>3.16</td>\n",
              "      <td>0.58</td>\n",
              "      <td>9.8</td>\n",
              "    </tr>\n",
              "    <tr>\n",
              "      <th>4</th>\n",
              "      <td>7.4</td>\n",
              "      <td>0.70</td>\n",
              "      <td>0.00</td>\n",
              "      <td>1.9</td>\n",
              "      <td>0.076</td>\n",
              "      <td>11.0</td>\n",
              "      <td>34.0</td>\n",
              "      <td>0.9978</td>\n",
              "      <td>3.51</td>\n",
              "      <td>0.56</td>\n",
              "      <td>9.4</td>\n",
              "    </tr>\n",
              "  </tbody>\n",
              "</table>\n",
              "</div>"
            ],
            "text/plain": [
              "   payment_history  location_parameter  stem_degree_score  gpa_ranking  \\\n",
              "0              7.4                0.70               0.00          1.9   \n",
              "1              7.8                0.88               0.00          2.6   \n",
              "2              7.8                0.76               0.04          2.3   \n",
              "3             11.2                0.28               0.56          1.9   \n",
              "4              7.4                0.70               0.00          1.9   \n",
              "\n",
              "   alumni_success  study_major_code  time_to_completion  \\\n",
              "0           0.076              11.0                34.0   \n",
              "1           0.098              25.0                67.0   \n",
              "2           0.092              15.0                54.0   \n",
              "3           0.075              17.0                60.0   \n",
              "4           0.076              11.0                34.0   \n",
              "\n",
              "   finance_workshop_score  cohort_ranking  total_loan_score  \\\n",
              "0                  0.9978            3.51              0.56   \n",
              "1                  0.9968            3.20              0.68   \n",
              "2                  0.9970            3.26              0.65   \n",
              "3                  0.9980            3.16              0.58   \n",
              "4                  0.9978            3.51              0.56   \n",
              "\n",
              "   financial_aid_score  \n",
              "0                  9.4  \n",
              "1                  9.8  \n",
              "2                  9.8  \n",
              "3                  9.8  \n",
              "4                  9.4  "
            ]
          },
          "execution_count": 6,
          "metadata": {},
          "output_type": "execute_result"
        }
      ],
      "source": [
        "# Define features set X by selecting all columns but credit_ranking\n",
        "\n",
        "X = loans_df.drop('credit_ranking', axis=1)\n",
        "# Review the features DataFrame\n",
        "X.head()\n"
      ]
    },
    {
      "cell_type": "markdown",
      "metadata": {
        "id": "QmM9c-tj6q6z"
      },
      "source": [
        "### Step 3: Split the features and target sets into training and testing datasets.\n"
      ]
    },
    {
      "cell_type": "code",
      "execution_count": 7,
      "metadata": {
        "id": "OD7xwU_96q6z"
      },
      "outputs": [],
      "source": [
        "# Split the preprocessed data into a training and testing dataset\n",
        "# Assign the function a random_state equal to 1\n",
        "X_train, X_test, y_train, y_test = train_test_split(X, y, random_state=1)"
      ]
    },
    {
      "cell_type": "markdown",
      "metadata": {
        "id": "G9i6DHY06q6z"
      },
      "source": [
        "### Step 4: Use scikit-learn's `StandardScaler` to scale the features data."
      ]
    },
    {
      "cell_type": "code",
      "execution_count": 8,
      "metadata": {
        "id": "BzD3z20m6q6z"
      },
      "outputs": [],
      "source": [
        "# Create a StandardScaler instance\n",
        "scaler = StandardScaler().fit(X_train)\n",
        "\n",
        "\n",
        "\n",
        "# Fit the scaler to the features training dataset\n",
        "X_train_scaled = scaler.transform(X_train)\n",
        "\n",
        "# Fit the scaler to the features training dataset\n",
        "X_test_scaled = scaler.transform(X_test)"
      ]
    },
    {
      "cell_type": "markdown",
      "metadata": {
        "id": "CZzVDjba6q6z"
      },
      "source": [
        "---\n",
        "\n",
        "## Compile and Evaluate a Model Using a Neural Network"
      ]
    },
    {
      "cell_type": "markdown",
      "metadata": {
        "id": "m-pSux4Q6q60"
      },
      "source": [
        "### Step 1: Create a deep neural network by assigning the number of input features, the number of layers, and the number of neurons on each layer using Tensorflow’s Keras.\n",
        "\n",
        "> **Hint** You can start with a two-layer deep neural network model that uses the `relu` activation function for both layers.\n"
      ]
    },
    {
      "cell_type": "code",
      "execution_count": 10,
      "metadata": {
        "colab": {
          "base_uri": "https://localhost:8080/"
        },
        "id": "t5C94FCd6q60",
        "outputId": "cbf05783-2f56-4745-cd33-649a6152e510"
      },
      "outputs": [
        {
          "name": "stdout",
          "output_type": "stream",
          "text": [
            "11\n"
          ]
        }
      ],
      "source": [
        "# Define the the number of inputs (features) to the model\n",
        "input_nodes = len(X.columns)\n",
        "\n",
        "# Review the number of features\n",
        "print(input_nodes)\n"
      ]
    },
    {
      "cell_type": "code",
      "execution_count": 20,
      "metadata": {
        "id": "c_KXDLkF6q60"
      },
      "outputs": [],
      "source": [
        "# Define the number of hidden nodes for the first hidden layer\n",
        "\n",
        "hidden_layer1_units = 6\n",
        "\n",
        "# Define the number of hidden nodes for the second hidden layer\n",
        "hidden_layer2_units=3\n",
        "\n",
        "# Define the number of neurons in the output layer\n",
        "output_layer_unit=1"
      ]
    },
    {
      "cell_type": "code",
      "execution_count": 21,
      "metadata": {
        "id": "63UdFncw6q60"
      },
      "outputs": [],
      "source": [
        "# Create the Sequential model instance\n",
        "nn_model = tf.keras.models.Sequential()\n",
        "\n",
        "\n",
        "#nn_model.add(tf.keras.layers.Dense(units=3, activation=\"relu\"))\n",
        "\n",
        "\n",
        "# Add the first hidden layer\n",
        "nn_model.add(tf.keras.layers.Dense(units=hidden_layer1_units, activation=\"relu\", input_dim=len(X_train.columns)))\n",
        "\n",
        "# Add the second hidden layer\n",
        "nn_model.add(tf.keras.layers.Dense(units=hidden_layer2_units, activation=\"relu\"))\n",
        "\n",
        "\n",
        "# Add the output layer to the model specifying the number of output neurons and activation function\n",
        "nn_model.add(tf.keras.layers.Dense(units=1, activation=\"sigmoid\"))"
      ]
    },
    {
      "cell_type": "code",
      "execution_count": 22,
      "metadata": {},
      "outputs": [
        {
          "name": "stdout",
          "output_type": "stream",
          "text": [
            "Model: \"sequential_3\"\n",
            "_________________________________________________________________\n",
            " Layer (type)                Output Shape              Param #   \n",
            "=================================================================\n",
            " dense_6 (Dense)             (None, 6)                 72        \n",
            "                                                                 \n",
            " dense_7 (Dense)             (None, 3)                 21        \n",
            "                                                                 \n",
            " dense_8 (Dense)             (None, 1)                 4         \n",
            "                                                                 \n",
            "=================================================================\n",
            "Total params: 97\n",
            "Trainable params: 97\n",
            "Non-trainable params: 0\n",
            "_________________________________________________________________\n"
          ]
        }
      ],
      "source": [
        "nn_model.summary()"
      ]
    },
    {
      "cell_type": "code",
      "execution_count": 12,
      "metadata": {
        "colab": {
          "base_uri": "https://localhost:8080/"
        },
        "id": "-Beoh4f_6q61",
        "outputId": "2e50f810-086b-4d89-bf7d-98afbe0d649d"
      },
      "outputs": [
        {
          "name": "stdout",
          "output_type": "stream",
          "text": [
            "Model: \"sequential\"\n",
            "_________________________________________________________________\n",
            " Layer (type)                Output Shape              Param #   \n",
            "=================================================================\n",
            " dense (Dense)               (None, 6)                 72        \n",
            "                                                                 \n",
            " dense_1 (Dense)             (None, 3)                 21        \n",
            "                                                                 \n",
            " dense_2 (Dense)             (None, 1)                 4         \n",
            "                                                                 \n",
            "=================================================================\n",
            "Total params: 97 (388.00 Byte)\n",
            "Trainable params: 97 (388.00 Byte)\n",
            "Non-trainable params: 0 (0.00 Byte)\n",
            "_________________________________________________________________\n"
          ]
        }
      ],
      "source": [
        "# Display the Sequential model summary\n",
        "nn_model.summary()"
      ]
    },
    {
      "cell_type": "markdown",
      "metadata": {
        "id": "nRqWGIRo6q61"
      },
      "source": [
        "### Step 2: Compile and fit the model using the `binary_crossentropy` loss function, the `adam` optimizer, and the `accuracy` evaluation metric.\n"
      ]
    },
    {
      "cell_type": "code",
      "execution_count": 23,
      "metadata": {
        "id": "E-hZaeSn6q61"
      },
      "outputs": [],
      "source": [
        "# Compile the Sequential model\n",
        "nn_model.compile(loss=\"binary_crossentropy\", optimizer=\"adam\", metrics=[\"accuracy\"])\n"
      ]
    },
    {
      "cell_type": "code",
      "execution_count": 24,
      "metadata": {
        "colab": {
          "base_uri": "https://localhost:8080/"
        },
        "id": "x25e8Idc6q61",
        "outputId": "e95946ba-23da-47a3-a1c1-5e9a2a484a47"
      },
      "outputs": [
        {
          "name": "stdout",
          "output_type": "stream",
          "text": [
            "Epoch 1/100\n",
            "38/38 [==============================] - 1s 6ms/step - loss: 0.6952 - accuracy: 0.4937\n",
            "Epoch 2/100\n",
            "38/38 [==============================] - 0s 5ms/step - loss: 0.6833 - accuracy: 0.5588\n",
            "Epoch 3/100\n",
            "38/38 [==============================] - 0s 5ms/step - loss: 0.6735 - accuracy: 0.5930\n",
            "Epoch 4/100\n",
            "38/38 [==============================] - 0s 5ms/step - loss: 0.6631 - accuracy: 0.6022\n",
            "Epoch 5/100\n",
            "38/38 [==============================] - 0s 2ms/step - loss: 0.6500 - accuracy: 0.6080\n",
            "Epoch 6/100\n",
            "38/38 [==============================] - 0s 2ms/step - loss: 0.6344 - accuracy: 0.6138\n",
            "Epoch 7/100\n",
            "38/38 [==============================] - 0s 2ms/step - loss: 0.6191 - accuracy: 0.6222\n",
            "Epoch 8/100\n",
            "38/38 [==============================] - 0s 2ms/step - loss: 0.6041 - accuracy: 0.6355\n",
            "Epoch 9/100\n",
            "38/38 [==============================] - 0s 2ms/step - loss: 0.5910 - accuracy: 0.6447\n",
            "Epoch 10/100\n",
            "38/38 [==============================] - 0s 2ms/step - loss: 0.5796 - accuracy: 0.7023\n",
            "Epoch 11/100\n",
            "38/38 [==============================] - 0s 2ms/step - loss: 0.5701 - accuracy: 0.7198\n",
            "Epoch 12/100\n",
            "38/38 [==============================] - 0s 2ms/step - loss: 0.5627 - accuracy: 0.7114\n",
            "Epoch 13/100\n",
            "38/38 [==============================] - 0s 2ms/step - loss: 0.5561 - accuracy: 0.7173\n",
            "Epoch 14/100\n",
            "38/38 [==============================] - 0s 2ms/step - loss: 0.5510 - accuracy: 0.7231\n",
            "Epoch 15/100\n",
            "38/38 [==============================] - 0s 2ms/step - loss: 0.5464 - accuracy: 0.7339\n",
            "Epoch 16/100\n",
            "38/38 [==============================] - 0s 3ms/step - loss: 0.5425 - accuracy: 0.7373\n",
            "Epoch 17/100\n",
            "38/38 [==============================] - 0s 5ms/step - loss: 0.5395 - accuracy: 0.7389\n",
            "Epoch 18/100\n",
            "38/38 [==============================] - 0s 4ms/step - loss: 0.5366 - accuracy: 0.7373\n",
            "Epoch 19/100\n",
            "38/38 [==============================] - 0s 5ms/step - loss: 0.5344 - accuracy: 0.7398\n",
            "Epoch 20/100\n",
            "38/38 [==============================] - 0s 5ms/step - loss: 0.5321 - accuracy: 0.7389\n",
            "Epoch 21/100\n",
            "38/38 [==============================] - 0s 5ms/step - loss: 0.5300 - accuracy: 0.7440\n",
            "Epoch 22/100\n",
            "38/38 [==============================] - 0s 3ms/step - loss: 0.5286 - accuracy: 0.7431\n",
            "Epoch 23/100\n",
            "38/38 [==============================] - 0s 2ms/step - loss: 0.5272 - accuracy: 0.7440\n",
            "Epoch 24/100\n",
            "38/38 [==============================] - 0s 2ms/step - loss: 0.5256 - accuracy: 0.7456\n",
            "Epoch 25/100\n",
            "38/38 [==============================] - 0s 2ms/step - loss: 0.5248 - accuracy: 0.7473\n",
            "Epoch 26/100\n",
            "38/38 [==============================] - 0s 2ms/step - loss: 0.5237 - accuracy: 0.7481\n",
            "Epoch 27/100\n",
            "38/38 [==============================] - 0s 2ms/step - loss: 0.5223 - accuracy: 0.7490\n",
            "Epoch 28/100\n",
            "38/38 [==============================] - 0s 2ms/step - loss: 0.5210 - accuracy: 0.7481\n",
            "Epoch 29/100\n",
            "38/38 [==============================] - 0s 2ms/step - loss: 0.5199 - accuracy: 0.7498\n",
            "Epoch 30/100\n",
            "38/38 [==============================] - 0s 2ms/step - loss: 0.5187 - accuracy: 0.7481\n",
            "Epoch 31/100\n",
            "38/38 [==============================] - 0s 2ms/step - loss: 0.5177 - accuracy: 0.7473\n",
            "Epoch 32/100\n",
            "38/38 [==============================] - 0s 2ms/step - loss: 0.5169 - accuracy: 0.7481\n",
            "Epoch 33/100\n",
            "38/38 [==============================] - 0s 2ms/step - loss: 0.5156 - accuracy: 0.7490\n",
            "Epoch 34/100\n",
            "38/38 [==============================] - 0s 4ms/step - loss: 0.5147 - accuracy: 0.7506\n",
            "Epoch 35/100\n",
            "38/38 [==============================] - 0s 4ms/step - loss: 0.5138 - accuracy: 0.7506\n",
            "Epoch 36/100\n",
            "38/38 [==============================] - 0s 4ms/step - loss: 0.5130 - accuracy: 0.7523\n",
            "Epoch 37/100\n",
            "38/38 [==============================] - 0s 4ms/step - loss: 0.5124 - accuracy: 0.7506\n",
            "Epoch 38/100\n",
            "38/38 [==============================] - 0s 4ms/step - loss: 0.5117 - accuracy: 0.7515\n",
            "Epoch 39/100\n",
            "38/38 [==============================] - 0s 5ms/step - loss: 0.5108 - accuracy: 0.7548\n",
            "Epoch 40/100\n",
            "38/38 [==============================] - 0s 2ms/step - loss: 0.5103 - accuracy: 0.7565\n",
            "Epoch 41/100\n",
            "38/38 [==============================] - 0s 2ms/step - loss: 0.5096 - accuracy: 0.7540\n",
            "Epoch 42/100\n",
            "38/38 [==============================] - 0s 2ms/step - loss: 0.5089 - accuracy: 0.7548\n",
            "Epoch 43/100\n",
            "38/38 [==============================] - 0s 2ms/step - loss: 0.5078 - accuracy: 0.7573\n",
            "Epoch 44/100\n",
            "38/38 [==============================] - 0s 2ms/step - loss: 0.5072 - accuracy: 0.7573\n",
            "Epoch 45/100\n",
            "38/38 [==============================] - 0s 2ms/step - loss: 0.5068 - accuracy: 0.7581\n",
            "Epoch 46/100\n",
            "38/38 [==============================] - 0s 2ms/step - loss: 0.5058 - accuracy: 0.7581\n",
            "Epoch 47/100\n",
            "38/38 [==============================] - 0s 2ms/step - loss: 0.5051 - accuracy: 0.7581\n",
            "Epoch 48/100\n",
            "38/38 [==============================] - 0s 2ms/step - loss: 0.5046 - accuracy: 0.7606\n",
            "Epoch 49/100\n",
            "38/38 [==============================] - 0s 2ms/step - loss: 0.5036 - accuracy: 0.7590\n",
            "Epoch 50/100\n",
            "38/38 [==============================] - 0s 2ms/step - loss: 0.5031 - accuracy: 0.7565\n",
            "Epoch 51/100\n",
            "38/38 [==============================] - 0s 3ms/step - loss: 0.5025 - accuracy: 0.7581\n",
            "Epoch 52/100\n",
            "38/38 [==============================] - 0s 5ms/step - loss: 0.5018 - accuracy: 0.7631\n",
            "Epoch 53/100\n",
            "38/38 [==============================] - 0s 5ms/step - loss: 0.5012 - accuracy: 0.7606\n",
            "Epoch 54/100\n",
            "38/38 [==============================] - 0s 4ms/step - loss: 0.5005 - accuracy: 0.7598\n",
            "Epoch 55/100\n",
            "38/38 [==============================] - 0s 7ms/step - loss: 0.5001 - accuracy: 0.7623\n",
            "Epoch 56/100\n",
            "38/38 [==============================] - 0s 4ms/step - loss: 0.4994 - accuracy: 0.7623\n",
            "Epoch 57/100\n",
            "38/38 [==============================] - 0s 2ms/step - loss: 0.4990 - accuracy: 0.7623\n",
            "Epoch 58/100\n",
            "38/38 [==============================] - 0s 2ms/step - loss: 0.4986 - accuracy: 0.7623\n",
            "Epoch 59/100\n",
            "38/38 [==============================] - 0s 2ms/step - loss: 0.4977 - accuracy: 0.7615\n",
            "Epoch 60/100\n",
            "38/38 [==============================] - 0s 2ms/step - loss: 0.4975 - accuracy: 0.7615\n",
            "Epoch 61/100\n",
            "38/38 [==============================] - 0s 2ms/step - loss: 0.4973 - accuracy: 0.7598\n",
            "Epoch 62/100\n",
            "38/38 [==============================] - 0s 2ms/step - loss: 0.4965 - accuracy: 0.7598\n",
            "Epoch 63/100\n",
            "38/38 [==============================] - 0s 2ms/step - loss: 0.4963 - accuracy: 0.7598\n",
            "Epoch 64/100\n",
            "38/38 [==============================] - 0s 2ms/step - loss: 0.4958 - accuracy: 0.7598\n",
            "Epoch 65/100\n",
            "38/38 [==============================] - 0s 2ms/step - loss: 0.4955 - accuracy: 0.7606\n",
            "Epoch 66/100\n",
            "38/38 [==============================] - 0s 2ms/step - loss: 0.4948 - accuracy: 0.7606\n",
            "Epoch 67/100\n",
            "38/38 [==============================] - 0s 2ms/step - loss: 0.4946 - accuracy: 0.7598\n",
            "Epoch 68/100\n",
            "38/38 [==============================] - 0s 2ms/step - loss: 0.4942 - accuracy: 0.7590\n",
            "Epoch 69/100\n",
            "38/38 [==============================] - 0s 4ms/step - loss: 0.4944 - accuracy: 0.7590\n",
            "Epoch 70/100\n",
            "38/38 [==============================] - 0s 4ms/step - loss: 0.4936 - accuracy: 0.7573\n",
            "Epoch 71/100\n",
            "38/38 [==============================] - 0s 5ms/step - loss: 0.4935 - accuracy: 0.7565\n",
            "Epoch 72/100\n",
            "38/38 [==============================] - 0s 5ms/step - loss: 0.4933 - accuracy: 0.7590\n",
            "Epoch 73/100\n",
            "38/38 [==============================] - 0s 4ms/step - loss: 0.4927 - accuracy: 0.7598\n",
            "Epoch 74/100\n",
            "38/38 [==============================] - 0s 4ms/step - loss: 0.4922 - accuracy: 0.7598\n",
            "Epoch 75/100\n",
            "38/38 [==============================] - 0s 2ms/step - loss: 0.4923 - accuracy: 0.7606\n",
            "Epoch 76/100\n",
            "38/38 [==============================] - 0s 2ms/step - loss: 0.4921 - accuracy: 0.7606\n",
            "Epoch 77/100\n",
            "38/38 [==============================] - 0s 2ms/step - loss: 0.4918 - accuracy: 0.7615\n",
            "Epoch 78/100\n",
            "38/38 [==============================] - 0s 2ms/step - loss: 0.4914 - accuracy: 0.7623\n",
            "Epoch 79/100\n",
            "38/38 [==============================] - 0s 2ms/step - loss: 0.4912 - accuracy: 0.7606\n",
            "Epoch 80/100\n",
            "38/38 [==============================] - 0s 2ms/step - loss: 0.4914 - accuracy: 0.7623\n",
            "Epoch 81/100\n",
            "38/38 [==============================] - 0s 2ms/step - loss: 0.4908 - accuracy: 0.7606\n",
            "Epoch 82/100\n",
            "38/38 [==============================] - 0s 2ms/step - loss: 0.4906 - accuracy: 0.7648\n",
            "Epoch 83/100\n",
            "38/38 [==============================] - 0s 2ms/step - loss: 0.4903 - accuracy: 0.7640\n",
            "Epoch 84/100\n",
            "38/38 [==============================] - 0s 2ms/step - loss: 0.4907 - accuracy: 0.7656\n",
            "Epoch 85/100\n",
            "38/38 [==============================] - 0s 2ms/step - loss: 0.4901 - accuracy: 0.7623\n",
            "Epoch 86/100\n",
            "38/38 [==============================] - 0s 2ms/step - loss: 0.4900 - accuracy: 0.7681\n",
            "Epoch 87/100\n",
            "38/38 [==============================] - 0s 4ms/step - loss: 0.4898 - accuracy: 0.7681\n",
            "Epoch 88/100\n",
            "38/38 [==============================] - 0s 5ms/step - loss: 0.4896 - accuracy: 0.7656\n",
            "Epoch 89/100\n",
            "38/38 [==============================] - 0s 5ms/step - loss: 0.4896 - accuracy: 0.7648\n",
            "Epoch 90/100\n",
            "38/38 [==============================] - 0s 4ms/step - loss: 0.4895 - accuracy: 0.7673\n",
            "Epoch 91/100\n",
            "38/38 [==============================] - 0s 4ms/step - loss: 0.4892 - accuracy: 0.7681\n",
            "Epoch 92/100\n",
            "38/38 [==============================] - 0s 4ms/step - loss: 0.4886 - accuracy: 0.7681\n",
            "Epoch 93/100\n",
            "38/38 [==============================] - 0s 2ms/step - loss: 0.4887 - accuracy: 0.7673\n",
            "Epoch 94/100\n",
            "38/38 [==============================] - 0s 2ms/step - loss: 0.4886 - accuracy: 0.7648\n",
            "Epoch 95/100\n",
            "38/38 [==============================] - 0s 2ms/step - loss: 0.4883 - accuracy: 0.7706\n",
            "Epoch 96/100\n",
            "38/38 [==============================] - 0s 2ms/step - loss: 0.4881 - accuracy: 0.7681\n",
            "Epoch 97/100\n",
            "38/38 [==============================] - 0s 2ms/step - loss: 0.4878 - accuracy: 0.7673\n",
            "Epoch 98/100\n",
            "38/38 [==============================] - 0s 3ms/step - loss: 0.4878 - accuracy: 0.7673\n",
            "Epoch 99/100\n",
            "38/38 [==============================] - 0s 2ms/step - loss: 0.4877 - accuracy: 0.7673\n",
            "Epoch 100/100\n",
            "38/38 [==============================] - 0s 2ms/step - loss: 0.4876 - accuracy: 0.7648\n"
          ]
        }
      ],
      "source": [
        "# Fit the model using 50 epochs and the training data\n",
        "fit_model = nn_model.fit(X_train_scaled, y_train, epochs=100)"
      ]
    },
    {
      "cell_type": "markdown",
      "metadata": {
        "id": "RfHMPZVI6q61"
      },
      "source": [
        "### Step 3: Evaluate the model using the test data to determine the model’s loss and accuracy.\n"
      ]
    },
    {
      "cell_type": "code",
      "execution_count": 25,
      "metadata": {
        "colab": {
          "base_uri": "https://localhost:8080/"
        },
        "id": "5hfVADKo6q61",
        "outputId": "7df473ad-3301-4b49-e5c3-16e1687cc1cf"
      },
      "outputs": [
        {
          "name": "stdout",
          "output_type": "stream",
          "text": [
            "13/13 - 0s - loss: 0.5220 - accuracy: 0.7400 - 417ms/epoch - 32ms/step\n",
            "Loss: 0.5219627618789673, Accuracy: 0.7400000095367432\n"
          ]
        },
        {
          "data": {
            "text/plain": [
              "<Axes: >"
            ]
          },
          "execution_count": 25,
          "metadata": {},
          "output_type": "execute_result"
        },
        {
          "data": {
            "image/png": "[encoded data removed]",
            "text/plain": [
              "<Figure size 640x480 with 1 Axes>"
            ]
          },
          "metadata": {},
          "output_type": "display_data"
        }
      ],
      "source": [
        "# Evaluate the model loss and accuracy metrics using the evaluate method and the test data\n",
        "model_loss, model_accuracy = nn_model.evaluate(X_test_scaled, y_test, verbose=2)\n",
        "print(f\"Loss: {model_loss}, Accuracy: {model_accuracy}\")\n",
        "\n",
        "# Display the model loss and accuracy results\n",
        "history_df = pd.DataFrame(fit_model.history)\n",
        "history_df.index += 1\n",
        "history_df.plot(y=\"loss\")\n"
      ]
    },
    {
      "cell_type": "code",
      "execution_count": 26,
      "metadata": {},
      "outputs": [
        {
          "data": {
            "text/plain": [
              "<Axes: >"
            ]
          },
          "execution_count": 26,
          "metadata": {},
          "output_type": "execute_result"
        },
        {
          "data": {
            "image/png": "[encoded data removed]",
            "text/plain": [
              "<Figure size 640x480 with 1 Axes>"
            ]
          },
          "metadata": {},
          "output_type": "display_data"
        }
      ],
      "source": [
        "# Display the model loss and accuracy results\n",
        "history_df = pd.DataFrame(fit_model.history)\n",
        "history_df.index += 1\n",
        "history_df.plot(y=\"loss\")"
      ]
    },
    {
      "cell_type": "code",
      "execution_count": 32,
      "metadata": {},
      "outputs": [
        {
          "data": {
            "text/plain": [
              "<Axes: >"
            ]
          },
          "execution_count": 32,
          "metadata": {},
          "output_type": "execute_result"
        },
        {
          "data": {
            "image/png": "[encoded data removed]",
            "text/plain": [
              "<Figure size 640x480 with 1 Axes>"
            ]
          },
          "metadata": {},
          "output_type": "display_data"
        }
      ],
      "source": [
        "history_df.plot(y=\"accuracy\")"
      ]
    },
    {
      "cell_type": "markdown",
      "metadata": {
        "id": "jpAv0rXA6q61"
      },
      "source": [
        "### Step 4: Save and export your model to a keras file, and name the file `student_loans.keras`.\n"
      ]
    },
    {
      "cell_type": "code",
      "execution_count": 27,
      "metadata": {
        "id": "q0MetN0W6q61"
      },
      "outputs": [],
      "source": [
        "# Set the model's file path\n",
        "file_path=Path(\"student_loans.keras\")\n",
        "\n",
        "# Export your model to a keras file\n",
        "nn_model.save(file_path)"
      ]
    },
    {
      "cell_type": "markdown",
      "metadata": {
        "id": "R1opCDdN6q61"
      },
      "source": [
        "---\n",
        "## Predict Loan Repayment Success by Using your Neural Network Model"
      ]
    },
    {
      "cell_type": "markdown",
      "metadata": {
        "id": "TfIfpeiy6q61"
      },
      "source": [
        "### Step 1: Reload your saved model."
      ]
    },
    {
      "cell_type": "code",
      "execution_count": 28,
      "metadata": {
        "id": "OCET2mvW6q61"
      },
      "outputs": [],
      "source": [
        "# Set the model's file path\n",
        "file_loaded=Path(\"student_loans.keras\")\n",
        "\n",
        "# Load the model to a new object\n",
        "nn_imported = tf.keras.models.load_model(file_loaded)"
      ]
    },
    {
      "cell_type": "markdown",
      "metadata": {
        "id": "rTPKooGw6q61"
      },
      "source": [
        "### Step 2: Make predictions on the testing data and save the predictions to a DataFrame."
      ]
    },
    {
      "cell_type": "code",
      "execution_count": 29,
      "metadata": {
        "colab": {
          "base_uri": "https://localhost:8080/"
        },
        "id": "Vet7qjgx6q62",
        "outputId": "0925af42-7e12-4978-8396-2a2c1580e1eb"
      },
      "outputs": [
        {
          "name": "stdout",
          "output_type": "stream",
          "text": [
            "13/13 - 0s - 258ms/epoch - 20ms/step\n"
          ]
        },
        {
          "data": {
            "text/plain": [
              "array([[0.47494727],\n",
              "       [0.27522185],\n",
              "       [0.60687244],\n",
              "       [0.62446713],\n",
              "       [0.98725194],\n",
              "       [0.9124297 ],\n",
              "       [0.9054069 ],\n",
              "       [0.0610727 ],\n",
              "       [0.5222108 ],\n",
              "       [0.34530845],\n",
              "       [0.9439999 ],\n",
              "       [0.35564968],\n",
              "       [0.50220567],\n",
              "       [0.94409174],\n",
              "       [0.6940081 ],\n",
              "       [0.33140633],\n",
              "       [0.84063566],\n",
              "       [0.38576666],\n",
              "       [0.36296323],\n",
              "       [0.38735625],\n",
              "       [0.47040862],\n",
              "       [0.8925196 ],\n",
              "       [0.32053545],\n",
              "       [0.9468307 ],\n",
              "       [0.37530392],\n",
              "       [0.9418151 ],\n",
              "       [0.8533576 ],\n",
              "       [0.52956146],\n",
              "       [0.16046955],\n",
              "       [0.22771145],\n",
              "       [0.43055582],\n",
              "       [0.96102226],\n",
              "       [0.21511428],\n",
              "       [0.93432146],\n",
              "       [0.19446097],\n",
              "       [0.59174585],\n",
              "       [0.27381104],\n",
              "       [0.32412097],\n",
              "       [0.9519641 ],\n",
              "       [0.2625154 ],\n",
              "       [0.8854681 ],\n",
              "       [0.05317254],\n",
              "       [0.05700751],\n",
              "       [0.9675755 ],\n",
              "       [0.06502962],\n",
              "       [0.7415809 ],\n",
              "       [0.21901605],\n",
              "       [0.32067916],\n",
              "       [0.16664484],\n",
              "       [0.7592252 ],\n",
              "       [0.04066124],\n",
              "       [0.3594626 ],\n",
              "       [0.9266384 ],\n",
              "       [0.07804127],\n",
              "       [0.2669356 ],\n",
              "       [0.42174345],\n",
              "       [0.8270215 ],\n",
              "       [0.6211662 ],\n",
              "       [0.8468016 ],\n",
              "       [0.10217835],\n",
              "       [0.84328425],\n",
              "       [0.28404263],\n",
              "       [0.29385373],\n",
              "       [0.47520804],\n",
              "       [0.04761785],\n",
              "       [0.3892996 ],\n",
              "       [0.932299  ],\n",
              "       [0.4630354 ],\n",
              "       [0.5464865 ],\n",
              "       [0.96435595],\n",
              "       [0.19446097],\n",
              "       [0.9234461 ],\n",
              "       [0.44293663],\n",
              "       [0.8171664 ],\n",
              "       [0.33658195],\n",
              "       [0.32298312],\n",
              "       [0.8762316 ],\n",
              "       [0.3204589 ],\n",
              "       [0.10350388],\n",
              "       [0.86063784],\n",
              "       [0.81015223],\n",
              "       [0.14319915],\n",
              "       [0.09687633],\n",
              "       [0.2978385 ],\n",
              "       [0.4797944 ],\n",
              "       [0.10125533],\n",
              "       [0.12784141],\n",
              "       [0.77503425],\n",
              "       [0.29434207],\n",
              "       [0.82563204],\n",
              "       [0.13754028],\n",
              "       [0.9136597 ],\n",
              "       [0.22634117],\n",
              "       [0.93825483],\n",
              "       [0.73196226],\n",
              "       [0.28425673],\n",
              "       [0.8834597 ],\n",
              "       [0.3040288 ],\n",
              "       [0.34795067],\n",
              "       [0.8693708 ],\n",
              "       [0.5481981 ],\n",
              "       [0.36425135],\n",
              "       [0.23474686],\n",
              "       [0.17731915],\n",
              "       [0.09012333],\n",
              "       [0.45841873],\n",
              "       [0.7187259 ],\n",
              "       [0.37501   ],\n",
              "       [0.89679515],\n",
              "       [0.22316045],\n",
              "       [0.98940885],\n",
              "       [0.44947052],\n",
              "       [0.8501269 ],\n",
              "       [0.49053326],\n",
              "       [0.36087194],\n",
              "       [0.9879482 ],\n",
              "       [0.27658424],\n",
              "       [0.07604053],\n",
              "       [0.17158903],\n",
              "       [0.10873792],\n",
              "       [0.23073149],\n",
              "       [0.9664042 ],\n",
              "       [0.9614945 ],\n",
              "       [0.262899  ],\n",
              "       [0.27175578],\n",
              "       [0.288605  ],\n",
              "       [0.8301009 ],\n",
              "       [0.20694071],\n",
              "       [0.74163383],\n",
              "       [0.78468764],\n",
              "       [0.34610686],\n",
              "       [0.256823  ],\n",
              "       [0.9078042 ],\n",
              "       [0.12115723],\n",
              "       [0.69656223],\n",
              "       [0.84025055],\n",
              "       [0.35925397],\n",
              "       [0.97743046],\n",
              "       [0.26687816],\n",
              "       [0.33453295],\n",
              "       [0.2699129 ],\n",
              "       [0.36471385],\n",
              "       [0.6291293 ],\n",
              "       [0.29950467],\n",
              "       [0.87785155],\n",
              "       [0.9544653 ],\n",
              "       [0.48038948],\n",
              "       [0.13478938],\n",
              "       [0.48419967],\n",
              "       [0.74505794],\n",
              "       [0.35686877],\n",
              "       [0.9442501 ],\n",
              "       [0.28284848],\n",
              "       [0.23393476],\n",
              "       [0.83859164],\n",
              "       [0.8480914 ],\n",
              "       [0.9383179 ],\n",
              "       [0.9200654 ],\n",
              "       [0.78014374],\n",
              "       [0.4540301 ],\n",
              "       [0.8483628 ],\n",
              "       [0.591514  ],\n",
              "       [0.29159117],\n",
              "       [0.19112138],\n",
              "       [0.9271117 ],\n",
              "       [0.87010056],\n",
              "       [0.72265965],\n",
              "       [0.11119862],\n",
              "       [0.25129834],\n",
              "       [0.7388806 ],\n",
              "       [0.22875896],\n",
              "       [0.82590574],\n",
              "       [0.15828027],\n",
              "       [0.29368034],\n",
              "       [0.9068146 ],\n",
              "       [0.3170591 ],\n",
              "       [0.28683284],\n",
              "       [0.16981125],\n",
              "       [0.48402092],\n",
              "       [0.28425673],\n",
              "       [0.79222864],\n",
              "       [0.84226733],\n",
              "       [0.5634461 ],\n",
              "       [0.3261135 ],\n",
              "       [0.93253183],\n",
              "       [0.9742749 ],\n",
              "       [0.92277515],\n",
              "       [0.5835396 ],\n",
              "       [0.34036472],\n",
              "       [0.08147305],\n",
              "       [0.29612163],\n",
              "       [0.74700624],\n",
              "       [0.39759308],\n",
              "       [0.40069604],\n",
              "       [0.8405335 ],\n",
              "       [0.2932765 ],\n",
              "       [0.7381366 ],\n",
              "       [0.77459615],\n",
              "       [0.5103252 ],\n",
              "       [0.2526273 ],\n",
              "       [0.89268446],\n",
              "       [0.478538  ],\n",
              "       [0.9240868 ],\n",
              "       [0.12444592],\n",
              "       [0.97860044],\n",
              "       [0.75667477],\n",
              "       [0.25327712],\n",
              "       [0.08397415],\n",
              "       [0.8974351 ],\n",
              "       [0.6753983 ],\n",
              "       [0.2841175 ],\n",
              "       [0.8900417 ],\n",
              "       [0.23474686],\n",
              "       [0.9334008 ],\n",
              "       [0.1242876 ],\n",
              "       [0.1290732 ],\n",
              "       [0.3062326 ],\n",
              "       [0.10251387],\n",
              "       [0.8620705 ],\n",
              "       [0.36625722],\n",
              "       [0.67424893],\n",
              "       [0.22427547],\n",
              "       [0.17229831],\n",
              "       [0.25953427],\n",
              "       [0.79628307],\n",
              "       [0.70234627],\n",
              "       [0.5908251 ],\n",
              "       [0.73543376],\n",
              "       [0.978541  ],\n",
              "       [0.3482108 ],\n",
              "       [0.38017777],\n",
              "       [0.2066956 ],\n",
              "       [0.9182872 ],\n",
              "       [0.889092  ],\n",
              "       [0.19524975],\n",
              "       [0.25595155],\n",
              "       [0.97730833],\n",
              "       [0.1174826 ],\n",
              "       [0.4199271 ],\n",
              "       [0.35162467],\n",
              "       [0.87549055],\n",
              "       [0.8779652 ],\n",
              "       [0.6661912 ],\n",
              "       [0.37052503],\n",
              "       [0.77006626],\n",
              "       [0.9617811 ],\n",
              "       [0.74936837],\n",
              "       [0.16711354],\n",
              "       [0.18707444],\n",
              "       [0.2940347 ],\n",
              "       [0.08667898],\n",
              "       [0.18856688],\n",
              "       [0.9824356 ],\n",
              "       [0.7591653 ],\n",
              "       [0.9698153 ],\n",
              "       [0.25102234],\n",
              "       [0.17398341],\n",
              "       [0.09605864],\n",
              "       [0.22673677],\n",
              "       [0.6440991 ],\n",
              "       [0.6194877 ],\n",
              "       [0.34377638],\n",
              "       [0.7280524 ],\n",
              "       [0.38749012],\n",
              "       [0.37705895],\n",
              "       [0.48419967],\n",
              "       [0.6755135 ],\n",
              "       [0.1339074 ],\n",
              "       [0.1281398 ],\n",
              "       [0.95805913],\n",
              "       [0.31331715],\n",
              "       [0.63393   ],\n",
              "       [0.1637008 ],\n",
              "       [0.9429397 ],\n",
              "       [0.18162717],\n",
              "       [0.46384   ],\n",
              "       [0.29161304],\n",
              "       [0.82590574],\n",
              "       [0.239775  ],\n",
              "       [0.19963492],\n",
              "       [0.98598623],\n",
              "       [0.8373209 ],\n",
              "       [0.5222108 ],\n",
              "       [0.045752  ],\n",
              "       [0.27899653],\n",
              "       [0.80620927],\n",
              "       [0.44999605],\n",
              "       [0.0917659 ],\n",
              "       [0.17570935],\n",
              "       [0.70778495],\n",
              "       [0.6630547 ],\n",
              "       [0.84063566],\n",
              "       [0.67486745],\n",
              "       [0.3796799 ],\n",
              "       [0.9327405 ],\n",
              "       [0.8806264 ],\n",
              "       [0.20573851],\n",
              "       [0.9117204 ],\n",
              "       [0.15004446],\n",
              "       [0.15917441],\n",
              "       [0.56817317],\n",
              "       [0.91819257],\n",
              "       [0.11033431],\n",
              "       [0.7360735 ],\n",
              "       [0.38471866],\n",
              "       [0.52762276],\n",
              "       [0.07617013],\n",
              "       [0.898812  ],\n",
              "       [0.6574708 ],\n",
              "       [0.06002668],\n",
              "       [0.3969456 ],\n",
              "       [0.6805813 ],\n",
              "       [0.6136414 ],\n",
              "       [0.95177764],\n",
              "       [0.5470918 ],\n",
              "       [0.733208  ],\n",
              "       [0.12065775],\n",
              "       [0.26288155],\n",
              "       [0.937302  ],\n",
              "       [0.9773083 ],\n",
              "       [0.3601575 ],\n",
              "       [0.50190973],\n",
              "       [0.99183506],\n",
              "       [0.21548995],\n",
              "       [0.2932765 ],\n",
              "       [0.29566544],\n",
              "       [0.264349  ],\n",
              "       [0.9757333 ],\n",
              "       [0.8455229 ],\n",
              "       [0.62017   ],\n",
              "       [0.78144413],\n",
              "       [0.17662334],\n",
              "       [0.2703232 ],\n",
              "       [0.4941893 ],\n",
              "       [0.5216761 ],\n",
              "       [0.14603086],\n",
              "       [0.8823552 ],\n",
              "       [0.9334008 ],\n",
              "       [0.1611459 ],\n",
              "       [0.4130725 ],\n",
              "       [0.23297909],\n",
              "       [0.454736  ],\n",
              "       [0.25393417],\n",
              "       [0.68726504],\n",
              "       [0.49220318],\n",
              "       [0.97914356],\n",
              "       [0.8540269 ],\n",
              "       [0.3044342 ],\n",
              "       [0.29552737],\n",
              "       [0.28424388],\n",
              "       [0.89004177],\n",
              "       [0.9843823 ],\n",
              "       [0.33257496],\n",
              "       [0.90578115],\n",
              "       [0.3379005 ],\n",
              "       [0.32135117],\n",
              "       [0.97847426],\n",
              "       [0.94409174],\n",
              "       [0.35925397],\n",
              "       [0.06774729],\n",
              "       [0.24406901],\n",
              "       [0.938846  ],\n",
              "       [0.26171488],\n",
              "       [0.9807693 ],\n",
              "       [0.35771388],\n",
              "       [0.24003437],\n",
              "       [0.22513196],\n",
              "       [0.24556233],\n",
              "       [0.7659624 ],\n",
              "       [0.25595155],\n",
              "       [0.29322225],\n",
              "       [0.5579453 ],\n",
              "       [0.1998614 ],\n",
              "       [0.4630884 ],\n",
              "       [0.18709657],\n",
              "       [0.64800376],\n",
              "       [0.9793614 ],\n",
              "       [0.9739629 ],\n",
              "       [0.1290732 ],\n",
              "       [0.86596364],\n",
              "       [0.91185486],\n",
              "       [0.75984144],\n",
              "       [0.8558289 ],\n",
              "       [0.8457638 ],\n",
              "       [0.3605998 ],\n",
              "       [0.7235368 ],\n",
              "       [0.06313829],\n",
              "       [0.546075  ],\n",
              "       [0.77234715],\n",
              "       [0.3738315 ],\n",
              "       [0.25287476],\n",
              "       [0.2153584 ],\n",
              "       [0.23051979],\n",
              "       [0.75527537],\n",
              "       [0.07977641],\n",
              "       [0.62334055],\n",
              "       [0.29434207],\n",
              "       [0.9182872 ],\n",
              "       [0.21916997],\n",
              "       [0.88890845]], dtype=float32)"
            ]
          },
          "execution_count": 29,
          "metadata": {},
          "output_type": "execute_result"
        }
      ],
      "source": [
        "# Make predictions with the test data\n",
        "predictions = nn_model.predict(X_test_scaled,verbose=2)\n",
        "predictions\n",
        "\n",
        "# Display a sample of the predictions\n"
      ]
    },
    {
      "cell_type": "code",
      "execution_count": 30,
      "metadata": {},
      "outputs": [
        {
          "data": {
            "text/html": [
              "<div>\n",
              "<style scoped>\n",
              "    .dataframe tbody tr th:only-of-type {\n",
              "        vertical-align: middle;\n",
              "    }\n",
              "\n",
              "    .dataframe tbody tr th {\n",
              "        vertical-align: top;\n",
              "    }\n",
              "\n",
              "    .dataframe thead th {\n",
              "        text-align: right;\n",
              "    }\n",
              "</style>\n",
              "<table border=\"1\" class=\"dataframe\">\n",
              "  <thead>\n",
              "    <tr style=\"text-align: right;\">\n",
              "      <th></th>\n",
              "      <th>predictions</th>\n",
              "    </tr>\n",
              "  </thead>\n",
              "  <tbody>\n",
              "    <tr>\n",
              "      <th>0</th>\n",
              "      <td>0.0</td>\n",
              "    </tr>\n",
              "    <tr>\n",
              "      <th>1</th>\n",
              "      <td>0.0</td>\n",
              "    </tr>\n",
              "    <tr>\n",
              "      <th>2</th>\n",
              "      <td>1.0</td>\n",
              "    </tr>\n",
              "    <tr>\n",
              "      <th>3</th>\n",
              "      <td>1.0</td>\n",
              "    </tr>\n",
              "    <tr>\n",
              "      <th>4</th>\n",
              "      <td>1.0</td>\n",
              "    </tr>\n",
              "    <tr>\n",
              "      <th>...</th>\n",
              "      <td>...</td>\n",
              "    </tr>\n",
              "    <tr>\n",
              "      <th>395</th>\n",
              "      <td>1.0</td>\n",
              "    </tr>\n",
              "    <tr>\n",
              "      <th>396</th>\n",
              "      <td>0.0</td>\n",
              "    </tr>\n",
              "    <tr>\n",
              "      <th>397</th>\n",
              "      <td>1.0</td>\n",
              "    </tr>\n",
              "    <tr>\n",
              "      <th>398</th>\n",
              "      <td>0.0</td>\n",
              "    </tr>\n",
              "    <tr>\n",
              "      <th>399</th>\n",
              "      <td>1.0</td>\n",
              "    </tr>\n",
              "  </tbody>\n",
              "</table>\n",
              "<p>400 rows × 1 columns</p>\n",
              "</div>"
            ],
            "text/plain": [
              "     predictions\n",
              "0            0.0\n",
              "1            0.0\n",
              "2            1.0\n",
              "3            1.0\n",
              "4            1.0\n",
              "..           ...\n",
              "395          1.0\n",
              "396          0.0\n",
              "397          1.0\n",
              "398          0.0\n",
              "399          1.0\n",
              "\n",
              "[400 rows x 1 columns]"
            ]
          },
          "execution_count": 30,
          "metadata": {},
          "output_type": "execute_result"
        }
      ],
      "source": [
        "predictions_df = pd.DataFrame(columns=[\"predictions\"], data=predictions)\n",
        "predictions_df[\"predictions\"] = round(predictions_df[\"predictions\"],0)\n",
        "predictions_df"
      ]
    },
    {
      "cell_type": "code",
      "execution_count": 19,
      "metadata": {
        "colab": {
          "base_uri": "https://localhost:8080/",
          "height": 424
        },
        "id": "87o8exFPhjfl",
        "outputId": "da5339c5-cea7-43e4-ec22-e168ea16dfa2"
      },
      "outputs": [
        {
          "data": {
            "text/html": [
              "\n",
              "  <div id=\"df-b764d2b2-92a0-4966-87c3-cf2a7be385d8\" class=\"colab-df-container\">\n",
              "    <div>\n",
              "<style scoped>\n",
              "    .dataframe tbody tr th:only-of-type {\n",
              "        vertical-align: middle;\n",
              "    }\n",
              "\n",
              "    .dataframe tbody tr th {\n",
              "        vertical-align: top;\n",
              "    }\n",
              "\n",
              "    .dataframe thead th {\n",
              "        text-align: right;\n",
              "    }\n",
              "</style>\n",
              "<table border=\"1\" class=\"dataframe\">\n",
              "  <thead>\n",
              "    <tr style=\"text-align: right;\">\n",
              "      <th></th>\n",
              "      <th>predictions</th>\n",
              "    </tr>\n",
              "  </thead>\n",
              "  <tbody>\n",
              "    <tr>\n",
              "      <th>0</th>\n",
              "      <td>1.0</td>\n",
              "    </tr>\n",
              "    <tr>\n",
              "      <th>1</th>\n",
              "      <td>0.0</td>\n",
              "    </tr>\n",
              "    <tr>\n",
              "      <th>2</th>\n",
              "      <td>1.0</td>\n",
              "    </tr>\n",
              "    <tr>\n",
              "      <th>3</th>\n",
              "      <td>1.0</td>\n",
              "    </tr>\n",
              "    <tr>\n",
              "      <th>4</th>\n",
              "      <td>1.0</td>\n",
              "    </tr>\n",
              "    <tr>\n",
              "      <th>...</th>\n",
              "      <td>...</td>\n",
              "    </tr>\n",
              "    <tr>\n",
              "      <th>395</th>\n",
              "      <td>1.0</td>\n",
              "    </tr>\n",
              "    <tr>\n",
              "      <th>396</th>\n",
              "      <td>0.0</td>\n",
              "    </tr>\n",
              "    <tr>\n",
              "      <th>397</th>\n",
              "      <td>1.0</td>\n",
              "    </tr>\n",
              "    <tr>\n",
              "      <th>398</th>\n",
              "      <td>0.0</td>\n",
              "    </tr>\n",
              "    <tr>\n",
              "      <th>399</th>\n",
              "      <td>0.0</td>\n",
              "    </tr>\n",
              "  </tbody>\n",
              "</table>\n",
              "<p>400 rows × 1 columns</p>\n",
              "</div>\n",
              "    <div class=\"colab-df-buttons\">\n",
              "\n",
              "  <div class=\"colab-df-container\">\n",
              "    <button class=\"colab-df-convert\" onclick=\"convertToInteractive('df-b764d2b2-92a0-4966-87c3-cf2a7be385d8')\"\n",
              "            title=\"Convert this dataframe to an interactive table.\"\n",
              "            style=\"display:none;\">\n",
              "\n",
              "  <svg xmlns=\"http://www.w3.org/2000/svg\" height=\"24px\" viewBox=\"0 -960 960 960\">\n",
              "    <path d=\"M120-120v-720h720v720H120Zm60-500h600v-160H180v160Zm220 220h160v-160H400v160Zm0 220h160v-160H400v160ZM180-400h160v-160H180v160Zm440 0h160v-160H620v160ZM180-180h160v-160H180v160Zm440 0h160v-160H620v160Z\"/>\n",
              "  </svg>\n",
              "    </button>\n",
              "\n",
              "  <style>\n",
              "    .colab-df-container {\n",
              "      display:flex;\n",
              "      gap: 12px;\n",
              "    }\n",
              "\n",
              "    .colab-df-convert {\n",
              "      background-color: #E8F0FE;\n",
              "      border: none;\n",
              "      border-radius: 50%;\n",
              "      cursor: pointer;\n",
              "      display: none;\n",
              "      fill: #1967D2;\n",
              "      height: 32px;\n",
              "      padding: 0 0 0 0;\n",
              "      width: 32px;\n",
              "    }\n",
              "\n",
              "    .colab-df-convert:hover {\n",
              "      background-color: #E2EBFA;\n",
              "      box-shadow: 0px 1px 2px rgba(60, 64, 67, 0.3), 0px 1px 3px 1px rgba(60, 64, 67, 0.15);\n",
              "      fill: #174EA6;\n",
              "    }\n",
              "\n",
              "    .colab-df-buttons div {\n",
              "      margin-bottom: 4px;\n",
              "    }\n",
              "\n",
              "    [theme=dark] .colab-df-convert {\n",
              "      background-color: #3B4455;\n",
              "      fill: #D2E3FC;\n",
              "    }\n",
              "\n",
              "    [theme=dark] .colab-df-convert:hover {\n",
              "      background-color: #434B5C;\n",
              "      box-shadow: 0px 1px 3px 1px rgba(0, 0, 0, 0.15);\n",
              "      filter: drop-shadow(0px 1px 2px rgba(0, 0, 0, 0.3));\n",
              "      fill: #FFFFFF;\n",
              "    }\n",
              "  </style>\n",
              "\n",
              "    <script>\n",
              "      const buttonEl =\n",
              "        document.querySelector('#df-b764d2b2-92a0-4966-87c3-cf2a7be385d8 button.colab-df-convert');\n",
              "      buttonEl.style.display =\n",
              "        google.colab.kernel.accessAllowed ? 'block' : 'none';\n",
              "\n",
              "      async function convertToInteractive(key) {\n",
              "        const element = document.querySelector('#df-b764d2b2-92a0-4966-87c3-cf2a7be385d8');\n",
              "        const dataTable =\n",
              "          await google.colab.kernel.invokeFunction('convertToInteractive',\n",
              "                                                    [key], {});\n",
              "        if (!dataTable) return;\n",
              "\n",
              "        const docLinkHtml = 'Like what you see? Visit the ' +\n",
              "          '<a target=\"_blank\" href=https://colab.research.google.com/notebooks/data_table.ipynb>data table notebook</a>'\n",
              "          + ' to learn more about interactive tables.';\n",
              "        element.innerHTML = '';\n",
              "        dataTable['output_type'] = 'display_data';\n",
              "        await google.colab.output.renderOutput(dataTable, element);\n",
              "        const docLink = document.createElement('div');\n",
              "        docLink.innerHTML = docLinkHtml;\n",
              "        element.appendChild(docLink);\n",
              "      }\n",
              "    </script>\n",
              "  </div>\n",
              "\n",
              "\n",
              "<div id=\"df-c8bb016b-0816-49d7-917e-bb5329b4b9ea\">\n",
              "  <button class=\"colab-df-quickchart\" onclick=\"quickchart('df-c8bb016b-0816-49d7-917e-bb5329b4b9ea')\"\n",
              "            title=\"Suggest charts\"\n",
              "            style=\"display:none;\">\n",
              "\n",
              "<svg xmlns=\"http://www.w3.org/2000/svg\" height=\"24px\"viewBox=\"0 0 24 24\"\n",
              "     width=\"24px\">\n",
              "    <g>\n",
              "        <path d=\"M19 3H5c-1.1 0-2 .9-2 2v14c0 1.1.9 2 2 2h14c1.1 0 2-.9 2-2V5c0-1.1-.9-2-2-2zM9 17H7v-7h2v7zm4 0h-2V7h2v10zm4 0h-2v-4h2v4z\"/>\n",
              "    </g>\n",
              "</svg>\n",
              "  </button>\n",
              "\n",
              "<style>\n",
              "  .colab-df-quickchart {\n",
              "      --bg-color: #E8F0FE;\n",
              "      --fill-color: #1967D2;\n",
              "      --hover-bg-color: #E2EBFA;\n",
              "      --hover-fill-color: #174EA6;\n",
              "      --disabled-fill-color: #AAA;\n",
              "      --disabled-bg-color: #DDD;\n",
              "  }\n",
              "\n",
              "  [theme=dark] .colab-df-quickchart {\n",
              "      --bg-color: #3B4455;\n",
              "      --fill-color: #D2E3FC;\n",
              "      --hover-bg-color: #434B5C;\n",
              "      --hover-fill-color: #FFFFFF;\n",
              "      --disabled-bg-color: #3B4455;\n",
              "      --disabled-fill-color: #666;\n",
              "  }\n",
              "\n",
              "  .colab-df-quickchart {\n",
              "    background-color: var(--bg-color);\n",
              "    border: none;\n",
              "    border-radius: 50%;\n",
              "    cursor: pointer;\n",
              "    display: none;\n",
              "    fill: var(--fill-color);\n",
              "    height: 32px;\n",
              "    padding: 0;\n",
              "    width: 32px;\n",
              "  }\n",
              "\n",
              "  .colab-df-quickchart:hover {\n",
              "    background-color: var(--hover-bg-color);\n",
              "    box-shadow: 0 1px 2px rgba(60, 64, 67, 0.3), 0 1px 3px 1px rgba(60, 64, 67, 0.15);\n",
              "    fill: var(--button-hover-fill-color);\n",
              "  }\n",
              "\n",
              "  .colab-df-quickchart-complete:disabled,\n",
              "  .colab-df-quickchart-complete:disabled:hover {\n",
              "    background-color: var(--disabled-bg-color);\n",
              "    fill: var(--disabled-fill-color);\n",
              "    box-shadow: none;\n",
              "  }\n",
              "\n",
              "  .colab-df-spinner {\n",
              "    border: 2px solid var(--fill-color);\n",
              "    border-color: transparent;\n",
              "    border-bottom-color: var(--fill-color);\n",
              "    animation:\n",
              "      spin 1s steps(1) infinite;\n",
              "  }\n",
              "\n",
              "  @keyframes spin {\n",
              "    0% {\n",
              "      border-color: transparent;\n",
              "      border-bottom-color: var(--fill-color);\n",
              "      border-left-color: var(--fill-color);\n",
              "    }\n",
              "    20% {\n",
              "      border-color: transparent;\n",
              "      border-left-color: var(--fill-color);\n",
              "      border-top-color: var(--fill-color);\n",
              "    }\n",
              "    30% {\n",
              "      border-color: transparent;\n",
              "      border-left-color: var(--fill-color);\n",
              "      border-top-color: var(--fill-color);\n",
              "      border-right-color: var(--fill-color);\n",
              "    }\n",
              "    40% {\n",
              "      border-color: transparent;\n",
              "      border-right-color: var(--fill-color);\n",
              "      border-top-color: var(--fill-color);\n",
              "    }\n",
              "    60% {\n",
              "      border-color: transparent;\n",
              "      border-right-color: var(--fill-color);\n",
              "    }\n",
              "    80% {\n",
              "      border-color: transparent;\n",
              "      border-right-color: var(--fill-color);\n",
              "      border-bottom-color: var(--fill-color);\n",
              "    }\n",
              "    90% {\n",
              "      border-color: transparent;\n",
              "      border-bottom-color: var(--fill-color);\n",
              "    }\n",
              "  }\n",
              "</style>\n",
              "\n",
              "  <script>\n",
              "    async function quickchart(key) {\n",
              "      const quickchartButtonEl =\n",
              "        document.querySelector('#' + key + ' button');\n",
              "      quickchartButtonEl.disabled = true;  // To prevent multiple clicks.\n",
              "      quickchartButtonEl.classList.add('colab-df-spinner');\n",
              "      try {\n",
              "        const charts = await google.colab.kernel.invokeFunction(\n",
              "            'suggestCharts', [key], {});\n",
              "      } catch (error) {\n",
              "        console.error('Error during call to suggestCharts:', error);\n",
              "      }\n",
              "      quickchartButtonEl.classList.remove('colab-df-spinner');\n",
              "      quickchartButtonEl.classList.add('colab-df-quickchart-complete');\n",
              "    }\n",
              "    (() => {\n",
              "      let quickchartButtonEl =\n",
              "        document.querySelector('#df-c8bb016b-0816-49d7-917e-bb5329b4b9ea button');\n",
              "      quickchartButtonEl.style.display =\n",
              "        google.colab.kernel.accessAllowed ? 'block' : 'none';\n",
              "    })();\n",
              "  </script>\n",
              "</div>\n",
              "    </div>\n",
              "  </div>\n"
            ],
            "text/plain": [
              "     predictions\n",
              "0            1.0\n",
              "1            0.0\n",
              "2            1.0\n",
              "3            1.0\n",
              "4            1.0\n",
              "..           ...\n",
              "395          1.0\n",
              "396          0.0\n",
              "397          1.0\n",
              "398          0.0\n",
              "399          0.0\n",
              "\n",
              "[400 rows x 1 columns]"
            ]
          },
          "execution_count": 19,
          "metadata": {},
          "output_type": "execute_result"
        }
      ],
      "source": [
        "# Save the predictions to a DataFrame and round the predictions to binary results\n",
        "predictions_df = pd.DataFrame(columns=[\"predictions\"], data=predictions)\n",
        "predictions_df[\"predictions\"] = round(predictions_df[\"predictions\"],0)\n",
        "predictions_df"
      ]
    },
    {
      "cell_type": "markdown",
      "metadata": {
        "id": "oxxLwycg6q62"
      },
      "source": [
        "### Step 4: Display a classification report with the y test data and predictions"
      ]
    },
    {
      "cell_type": "code",
      "execution_count": 31,
      "metadata": {
        "colab": {
          "base_uri": "https://localhost:8080/"
        },
        "id": "UTxYZibW6q67",
        "outputId": "f341b396-9b4c-478c-dba8-f6d904ba10e3"
      },
      "outputs": [
        {
          "name": "stdout",
          "output_type": "stream",
          "text": [
            "              precision    recall  f1-score   support\n",
            "\n",
            "           0       0.69      0.80      0.74       188\n",
            "           1       0.79      0.69      0.74       212\n",
            "\n",
            "    accuracy                           0.74       400\n",
            "   macro avg       0.74      0.74      0.74       400\n",
            "weighted avg       0.75      0.74      0.74       400\n",
            "\n"
          ]
        }
      ],
      "source": [
        "# Print the classification report with the y test data and predictions\n",
        "print(classification_report(y_test, predictions_df[\"predictions\"].values))"
      ]
    },
    {
      "cell_type": "code",
      "execution_count": null,
      "metadata": {},
      "outputs": [],
      "source": [
        "#class zero is correct 69% of the time, class one is correct 99% of the time, 188 rows are class zero, and 212 rows are class"
      ]
    },
    {
      "cell_type": "markdown",
      "metadata": {
        "id": "8Aaof1tBtcp6"
      },
      "source": [
        "---\n",
        "## Discuss creating a recommendation system for student loans"
      ]
    },
    {
      "cell_type": "markdown",
      "metadata": {
        "id": "_CC8cNpNtcp6"
      },
      "source": [
        "Briefly answer the following questions in the space provided:\n",
        "\n",
        "1. Describe the data that you would need to collect to build a recommendation system to recommend student loan options for students. Explain why this data would be relevant and appropriate.\n",
        "\n",
        "To build a recommendation system for student loan options, we would need the following data:\n",
        "Loan Lender: Information about different lenders and their loan offerings.\n",
        "Interest Rates: The interest rates associated with various loans. \n",
        "Loan Amounts: The range of loan amounts available from different lenders. \n",
        "Repayment Periods: Loan repayment duration. \n",
        "User Data: age, income, and education level. \n",
        "User Location: Geographic location of student and lender, as certain lenders may only operate in specific regions or offer location-based incentives.\n",
        "Financial History: Information about the borrower's past financial behavior, and creditworthiness \n",
        "Credit Score: A key indicator of a borrower's creditworthiness, which lenders use to determine eligibility and interest rates.\n",
        "\n",
        "\n",
        "2. Based on the data you chose to use in this recommendation system, would your model be using collaborative filtering, content-based filtering, or context-based filtering? Justify why the data you selected would be suitable for your choice of filtering method.\n",
        "\n",
        "the model primarily utilizes collaborative filtering because it will try to predict and classify students based on the assumption that if two users had similar preferences in the past, they are likely to have similar preferences in the future.\n",
        "\n",
        "3. Describe two real-world challenges that you would take into consideration while building a recommendation system for student loans. Explain why these challenges would be of concern for a student loan recommendation system.\n",
        "\n",
        "Changing User Needs and Financial Circumstances.\n",
        "Students' financial situations , housing and educational needs can change rapidly due to various factors, such as changes in income, unexpected expenses, or shifts in academic goals. A recommendation system that does not adapt to these changing circumstances may provide outdated or irrelevant loan options."
      ]
    },
    {
      "cell_type": "markdown",
      "metadata": {
        "id": "5KqIT8kYtcp6"
      },
      "source": [
        "**1. Describe the data that you would need to collect to build a recommendation system to recommend student loan options for students. Explain why this data would be relevant and appropriate.**\n",
        "\n",
        "\n",
        "**2. Based on the data you chose to use in this recommendation system, would your model be using collaborative filtering, content-based filtering, or context-based filtering? Justify why the data you selected would be suitable for your choice of filtering method.**\n",
        "\n",
        "\n",
        "**3. Describe two real-world challenges that you would take into consideration while building a recommendation system for student loans. Explain why these challenges would be of concern for a student loan recommendation system.**\n",
        "\n"
      ]
    }
  ],
  "metadata": {
    "colab": {
      "provenance": []
    },
    "kernelspec": {
      "display_name": "dev",
      "language": "python",
      "name": "python3"
    },
    "language_info": {
      "codemirror_mode": {
        "name": "ipython",
        "version": 3
      },
      "file_extension": ".py",
      "mimetype": "text/x-python",
      "name": "python",
      "nbconvert_exporter": "python",
      "pygments_lexer": "ipython3",
      "version": "3.10.13"
    }
  },
  "nbformat": 4,
  "nbformat_minor": 0
}
